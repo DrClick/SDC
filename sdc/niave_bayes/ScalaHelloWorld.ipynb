{
 "cells": [
  {
   "cell_type": "code",
   "execution_count": 1,
   "metadata": {},
   "outputs": [
    {
     "data": {
      "text/plain": [
       "\u001b[32mimport \u001b[39m\u001b[36m$ivy.$                           \n",
       "\u001b[39m\n",
       "\u001b[32mimport \u001b[39m\u001b[36mvegas._\n",
       "\u001b[39m\n",
       "\u001b[32mimport \u001b[39m\u001b[36mvegas.render.WindowRenderer._\u001b[39m"
      ]
     },
     "execution_count": 1,
     "metadata": {},
     "output_type": "execute_result"
    }
   ],
   "source": [
    "import $ivy.`org.vegas-viz::vegas:0.3.8`\n",
    "import vegas._\n",
    "import vegas.render.WindowRenderer._"
   ]
  },
  {
   "cell_type": "code",
   "execution_count": 2,
   "metadata": {},
   "outputs": [
    {
     "data": {
      "text/plain": [
       "\u001b[36mdata\u001b[39m: \u001b[32mcollection\u001b[39m.\u001b[32mimmutable\u001b[39m.\u001b[32mIndexedSeq\u001b[39m[\u001b[32mDouble\u001b[39m] = \u001b[33mVector\u001b[39m(\u001b[32m1.0\u001b[39m, \u001b[32m4.0\u001b[39m, \u001b[32m9.0\u001b[39m, \u001b[32m16.0\u001b[39m, \u001b[32m25.0\u001b[39m, \u001b[32m36.0\u001b[39m, \u001b[32m49.0\u001b[39m, \u001b[32m64.0\u001b[39m, \u001b[32m81.0\u001b[39m, \u001b[32m100.0\u001b[39m)"
      ]
     },
     "execution_count": 2,
     "metadata": {},
     "output_type": "execute_result"
    }
   ],
   "source": [
    "val data =  1 to 10 map {Math.pow(_, 2)}"
   ]
  },
  {
   "cell_type": "code",
   "execution_count": null,
   "metadata": {},
   "outputs": [],
   "source": [
    "val plot = Vegas(\"Country Pop\")\n",
    "    .withData(\n",
    "        Seq(\n",
    "          Map(\"country\" -> \"USA\", \"population\" -> 314),\n",
    "          Map(\"country\" -> \"UK\", \"population\" -> 64),\n",
    "          Map(\"country\" -> \"DK\", \"population\" -> 80)\n",
    "        )\n",
    "      )\n",
    "    .encodeX(\"country\", Nom)\n",
    "    .encodeY(\"population\", Quant)\n",
    "    .mark(Bar)\n",
    "\n",
    "plot.show"
   ]
  },
  {
   "cell_type": "code",
   "execution_count": null,
   "metadata": {
    "collapsed": true
   },
   "outputs": [],
   "source": []
  }
 ],
 "metadata": {
  "kernelspec": {
   "display_name": "Scala",
   "language": "scala",
   "name": "scala"
  },
  "language_info": {
   "codemirror_mode": "text/x-scala",
   "file_extension": ".scala",
   "mimetype": "text/x-scala",
   "name": "scala211",
   "nbconvert_exporter": "script",
   "pygments_lexer": "scala",
   "version": "2.11.11"
  }
 },
 "nbformat": 4,
 "nbformat_minor": 2
}
