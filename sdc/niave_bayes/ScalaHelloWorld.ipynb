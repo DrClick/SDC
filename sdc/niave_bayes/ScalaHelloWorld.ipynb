{
 "cells": [
  {
   "cell_type": "code",
   "execution_count": 1,
   "metadata": {},
   "outputs": [
    {
     "name": "stdout",
     "output_type": "stream",
     "text": [
      "Checking https://repo1.maven.org/maven2/org/webjars/bower/vega/maven-metadata.xml\n",
      "Checking https://repo1.maven.org/maven2/org/webjars/bower/vega/maven-metadata.xml.sha1\n",
      "Checked https://repo1.maven.org/maven2/org/webjars/bower/vega/maven-metadata.xml\n",
      "Checked https://repo1.maven.org/maven2/org/webjars/bower/vega/maven-metadata.xml.sha1\n"
     ]
    },
    {
     "data": {
      "text/plain": [
       "\u001b[32mimport \u001b[39m\u001b[36m$ivy.$                           \n",
       "\u001b[39m\n",
       "\u001b[32mimport \u001b[39m\u001b[36mvegas._\n",
       "\u001b[39m\n",
       "\u001b[32mimport \u001b[39m\u001b[36mvegas.render.WindowRenderer._\u001b[39m"
      ]
     },
     "execution_count": 1,
     "metadata": {},
     "output_type": "execute_result"
    }
   ],
   "source": [
    "import $ivy.`org.vegas-viz::vegas:0.3.8`\n",
    "import vegas._\n",
    "import vegas.render.WindowRenderer._"
   ]
  },
  {
   "cell_type": "code",
   "execution_count": 2,
   "metadata": {},
   "outputs": [
    {
     "data": {
      "text/plain": [
       "\u001b[36mdata\u001b[39m: \u001b[32mcollection\u001b[39m.\u001b[32mimmutable\u001b[39m.\u001b[32mIndexedSeq\u001b[39m[\u001b[32mDouble\u001b[39m] = \u001b[33mVector\u001b[39m(\u001b[32m1.0\u001b[39m, \u001b[32m4.0\u001b[39m, \u001b[32m9.0\u001b[39m, \u001b[32m16.0\u001b[39m, \u001b[32m25.0\u001b[39m, \u001b[32m36.0\u001b[39m, \u001b[32m49.0\u001b[39m, \u001b[32m64.0\u001b[39m, \u001b[32m81.0\u001b[39m, \u001b[32m100.0\u001b[39m)"
      ]
     },
     "execution_count": 2,
     "metadata": {},
     "output_type": "execute_result"
    }
   ],
   "source": [
    "val data =  1 to 10 map {Math.pow(_, 2)}"
   ]
  },
  {
   "cell_type": "code",
   "execution_count": 4,
   "metadata": {},
   "outputs": [
    {
     "data": {
      "text/html": [
       "\n",
       "  <iframe id=\"frame-vegas-e4a8f8e6-905c-41be-a0e6-b7a2fbd91ffb\" sandbox=\"allow-scripts allow-same-origin\" style=\"border: none; width: 100%\" srcdoc=\"&lt;html&gt;\n",
       "  &lt;head&gt;\n",
       "    &lt;script src=&quot;https://cdn.jsdelivr.net/webjars/org.webjars.bower/d3/3.5.17/d3.min.js&quot; charset=&quot;utf-8&quot;&gt;&lt;/script&gt;\n",
       "&lt;script src=&quot;https://cdn.jsdelivr.net/webjars/org.webjars.bower/vega/2.6.3/vega.min.js&quot; charset=&quot;utf-8&quot;&gt;&lt;/script&gt;\n",
       "&lt;script src=&quot;https://cdn.jsdelivr.net/webjars/org.webjars.bower/vega-lite/1.2.0/vega-lite.min.js&quot; charset=&quot;utf-8&quot;&gt;&lt;/script&gt;\n",
       "&lt;script src=&quot;https://vega.github.io/vega-editor/vendor/vega-embed.js&quot; charset=&quot;utf-8&quot;&gt;&lt;/script&gt;\n",
       "  &lt;/head&gt;\n",
       "  &lt;body&gt;\n",
       " &lt;script&gt;\n",
       "   var embedSpec = {\n",
       "     mode: &quot;vega-lite&quot;,\n",
       "     spec: {\n",
       "  &quot;mark&quot; : &quot;bar&quot;,\n",
       "  &quot;encoding&quot; : {\n",
       "    &quot;x&quot; : {\n",
       "      &quot;field&quot; : &quot;country&quot;,\n",
       "      &quot;type&quot; : &quot;nominal&quot;\n",
       "    },\n",
       "    &quot;y&quot; : {\n",
       "      &quot;field&quot; : &quot;population&quot;,\n",
       "      &quot;type&quot; : &quot;quantitative&quot;\n",
       "    }\n",
       "  },\n",
       "  &quot;description&quot; : &quot;Country Pop&quot;,\n",
       "  &quot;data&quot; : {\n",
       "    &quot;values&quot; : [\n",
       "      {\n",
       "        &quot;country&quot; : &quot;USA&quot;,\n",
       "        &quot;population&quot; : 314\n",
       "      },\n",
       "      {\n",
       "        &quot;country&quot; : &quot;UK&quot;,\n",
       "        &quot;population&quot; : 64\n",
       "      },\n",
       "      {\n",
       "        &quot;country&quot; : &quot;DK&quot;,\n",
       "        &quot;population&quot; : 80\n",
       "      }\n",
       "    ]\n",
       "  }\n",
       "}\n",
       "   }\n",
       "   vg.embed(&quot;#vegas-e4a8f8e6-905c-41be-a0e6-b7a2fbd91ffb&quot;, embedSpec, function(error, result) {});\n",
       " &lt;/script&gt;\n",
       " &lt;div id='vegas-e4a8f8e6-905c-41be-a0e6-b7a2fbd91ffb'&gt;&lt;/div&gt;\n",
       "    &lt;/body&gt;\n",
       "&lt;/html&gt;\"></iframe>\n",
       "  <script>\n",
       "    if (typeof resizeIFrame != 'function') {\n",
       "      function resizeIFrame(el, k) {\n",
       "        $(el.contentWindow.document).ready(function() {\n",
       "          el.style.height = el.contentWindow.document.body.scrollHeight + 'px';\n",
       "        });\n",
       "        if (k <= 10) { setTimeout(function() { resizeIFrame(el, k+1) }, 1000 + (k * 250)) };\n",
       "      }\n",
       "    }\n",
       "    $().ready( function() { resizeIFrame($('#frame-vegas-e4a8f8e6-905c-41be-a0e6-b7a2fbd91ffb').get(0), 1); });\n",
       "  </script>\n",
       "    "
      ]
     },
     "metadata": {},
     "output_type": "display_data"
    },
    {
     "data": {
      "text/plain": [
       "\u001b[36mplot\u001b[39m: \u001b[32mDSL\u001b[39m.\u001b[32mExtendedUnitSpecBuilder\u001b[39m = \u001b[33mExtendedUnitSpecBuilder\u001b[39m(\n",
       "  \u001b[33mExtendedUnitSpec\u001b[39m(\n",
       "    None,\n",
       "    None,\n",
       "    Bar,\n",
       "    \u001b[33mSome\u001b[39m(\n",
       "      \u001b[33mEncoding\u001b[39m(\n",
       "        None,\n",
       "        None,\n",
       "        \u001b[33mSome\u001b[39m(\n",
       "          \u001b[33mPositionChannelDef\u001b[39m(\n",
       "            None,\n",
       "\u001b[33m...\u001b[39m"
      ]
     },
     "execution_count": 4,
     "metadata": {},
     "output_type": "execute_result"
    }
   ],
   "source": [
    "val plot = Vegas(\"Country Pop\")\n",
    "    .withData(\n",
    "        Seq(\n",
    "          Map(\"country\" -> \"USA\", \"population\" -> 314),\n",
    "          Map(\"country\" -> \"UK\", \"population\" -> 64),\n",
    "          Map(\"country\" -> \"DK\", \"population\" -> 80)\n",
    "        )\n",
    "      )\n",
    "    .encodeX(\"country\", Nom)\n",
    "    .encodeY(\"population\", Quant)\n",
    "    .mark(Bar)\n",
    "\n",
    "plot.show"
   ]
  },
  {
   "cell_type": "code",
   "execution_count": null,
   "metadata": {
    "collapsed": true
   },
   "outputs": [],
   "source": []
  }
 ],
 "metadata": {
  "kernelspec": {
   "display_name": "Scala",
   "language": "scala",
   "name": "scala"
  },
  "language_info": {
   "codemirror_mode": "text/x-scala",
   "file_extension": ".scala",
   "mimetype": "text/x-scala",
   "name": "scala211",
   "nbconvert_exporter": "script",
   "pygments_lexer": "scala",
   "version": "2.11.11"
  }
 },
 "nbformat": 4,
 "nbformat_minor": 2
}
