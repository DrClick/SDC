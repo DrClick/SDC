{
 "cells": [
  {
   "cell_type": "code",
   "execution_count": 10,
   "metadata": {
    "collapsed": true
   },
   "outputs": [],
   "source": [
    "import csv\n",
    "from matplotlib import pyplot as plt\n",
    "import numpy as np\n",
    "from scipy.misc import imread\n",
    "import pickle\n",
    "import cv2\n",
    "from sklearn import linear_model\n",
    "import seaborn as sns\n",
    "import warnings\n",
    "from jupyterthemes import jtplot\n",
    "from IPython import display\n",
    "import math"
   ]
  },
  {
   "cell_type": "code",
   "execution_count": 11,
   "metadata": {
    "collapsed": true
   },
   "outputs": [],
   "source": [
    "%matplotlib inline\n",
    "jtplot.style()\n",
    "sns.set_context(\"poster\")\n",
    "warnings.filterwarnings(\"ignore\")"
   ]
  },
  {
   "cell_type": "markdown",
   "metadata": {},
   "source": [
    " A gaussian function is defined as: $$f(x) = \\frac{1}{\\sqrt{2\\pi\\sigma^2}} e^{-.5} \\frac{(x-\\mu)^2}{\\sigma^2}$$"
   ]
  },
  {
   "cell_type": "code",
   "execution_count": 23,
   "metadata": {
    "collapsed": true
   },
   "outputs": [],
   "source": [
    "# a gaussian is described by the formula\n",
    "def gaussian(mu, sigma_2, x):\n",
    "    return 1/math.sqrt(2 * math.pi * sigma_2) * math.exp(-.5 * math.pow(x-mu,2)/sigma_2)\n",
    "    "
   ]
  },
  {
   "cell_type": "code",
   "execution_count": 67,
   "metadata": {
    "collapsed": true
   },
   "outputs": [],
   "source": [
    "def gaussian_measurement_update(mu_1, sig_1, mu_2, sig_2):\n",
    "    def mu_prime(sigma2, r2, mu, v):\n",
    "        return 1/(sigma2 + r2) * (r2*mu + sigma2*v)\n",
    "\n",
    "    def sigma_prime(sigma2, r2):\n",
    "        return 1/(1/sigma2 + 1/r2)\n",
    "\n",
    "    new_mean = mu_prime(sig_1, sig_2, mu_1, mu_2)\n",
    "    new_var = sigma_prime(sig_1, sig_2)\n",
    "    return new_mean, new_var"
   ]
  },
  {
   "cell_type": "code",
   "execution_count": 61,
   "metadata": {},
   "outputs": [],
   "source": [
    "def plot_gaussian(mu, sigma_squared, label):\n",
    "    plt.plot([gaussian(mu,sigma_squared,x) for x in np.arange(100)], label=label)"
   ]
  },
  {
   "cell_type": "code",
   "execution_count": 68,
   "metadata": {
    "collapsed": true
   },
   "outputs": [],
   "source": [
    "def plot_curves(mu_1, sig_1, mu_2, sig_2):\n",
    "    plt.figure(figsize=(18,8))\n",
    "    plot_gaussian(mu_1, sig_1, \"Prior Distribution\")\n",
    "    plot_gaussian(mu_2, sig_2, \"Sensed Distribution\")\n",
    "    update_mu, update_sig = gaussian_measurement_update(mu_1, sig_1, mu_2, sig_2)\n",
    "    plot_gaussian(update_mu, update_sig, \"Updated Distribution\")\n",
    "    plt.legend()"
   ]
  },
  {
   "cell_type": "code",
   "execution_count": 66,
   "metadata": {},
   "outputs": [
    {
     "data": {
      "application/vnd.jupyter.widget-view+json": {
       "model_id": "4f858d19d46849f1b60852cd80ba8a5e",
       "version_major": 2,
       "version_minor": 0
      },
      "text/plain": [
       "A Jupyter Widget"
      ]
     },
     "metadata": {},
     "output_type": "display_data"
    }
   ],
   "source": [
    "#scrub through thismanually for bad frames.... ouch time consuming\n",
    "from ipywidgets import interact, interactive, fixed, interact_manual, Layout\n",
    "import ipywidgets as widgets\n",
    "from IPython.display import display\n",
    "\n",
    "\n",
    "mu_1_slider= widgets.IntSlider(min=0,max=100,step=1,value=0)\n",
    "sigma_1_slider= widgets.IntSlider(min=1,max=100,step=1,value=0)\n",
    "\n",
    "mu_2_slider= widgets.IntSlider(min=0,max=100,step=1,value=0)\n",
    "sigma_2_slider= widgets.IntSlider(min=1,max=100,step=1,value=0)\n",
    "\n",
    "\n",
    "interactive_plot = interactive(plot_curves, mu_1=mu_1_slider, sig_1=sigma_1_slider,mu_2=mu_2_slider, sig_2=sigma_2_slider)\n",
    "output = interactive_plot.children[-1]\n",
    "output.layout.height = '450px'\n",
    "\n",
    "\n",
    "widgets.VBox()\n",
    "display(interactive_plot)"
   ]
  },
  {
   "cell_type": "code",
   "execution_count": 69,
   "metadata": {
    "collapsed": true
   },
   "outputs": [],
   "source": [
    "#here we are going to apply simple motion  model \n",
    "#mu_1, sig_1 are the current position an variance\n",
    "# mu_2, sig_2 is the linear motion, e.g., move 4 places to the right with \n",
    "# variance of .5\n",
    "def gaussian_preidict_update(mu_1, sig_1, mu_2, sig_2):\n",
    "    new_mean = mu_1 + mu_2\n",
    "    new_var = sig_1 + sig_2\n",
    "    return new_mean, new_var"
   ]
  },
  {
   "cell_type": "code",
   "execution_count": null,
   "metadata": {
    "collapsed": true
   },
   "outputs": [],
   "source": []
  }
 ],
 "metadata": {
  "kernelspec": {
   "display_name": "Python 3",
   "language": "python",
   "name": "python3"
  },
  "language_info": {
   "codemirror_mode": {
    "name": "ipython",
    "version": 3
   },
   "file_extension": ".py",
   "mimetype": "text/x-python",
   "name": "python",
   "nbconvert_exporter": "python",
   "pygments_lexer": "ipython3",
   "version": "3.6.2"
  }
 },
 "nbformat": 4,
 "nbformat_minor": 2
}
