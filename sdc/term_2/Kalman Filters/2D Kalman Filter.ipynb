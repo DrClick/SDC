{
 "cells": [
  {
   "cell_type": "code",
   "execution_count": 3,
   "metadata": {},
   "outputs": [],
   "source": [
    "from math import sqrt\n",
    "from matrix import matrix"
   ]
  },
  {
   "cell_type": "code",
   "execution_count": 5,
   "metadata": {},
   "outputs": [
    {
     "name": "stdout",
     "output_type": "stream",
     "text": [
      "([[3.9996664447958645], [0.9999998335552873]], [[2.3318904241194827, 0.9991676099921091], [0.9991676099921067, 0.49950058263974184]])\n"
     ]
    }
   ],
   "source": [
    "# Write a function 'kalman_filter' that implements a multi-\n",
    "# dimensional Kalman Filter for the example given\n",
    "\n",
    "\n",
    "########################################\n",
    "\n",
    "# Implement the filter function below\n",
    "\n",
    "def kalman_filter(x, P):\n",
    "    for n in range(len(measurements)):\n",
    "        \n",
    "\n",
    "        \n",
    "        # measurement update\n",
    "        Z = matrix([[measurements[n]]])\n",
    "        y = Z - (H * x)\n",
    "        S = H * P * H.transpose() + R\n",
    "        K = P * H.transpose() * S.inverse()\n",
    "        \n",
    "        x = x + (K * y)\n",
    "        P = (I - (K * H)) * P\n",
    "        \n",
    "        # prediction\n",
    "        x = (F * x) + u\n",
    "        P = F * P * F.transpose()\n",
    "    \n",
    "    #print 'x-----'\n",
    "    #x.show()\n",
    "    #print 'P-----'\n",
    "    #P.show()\n",
    "    return x,P\n",
    "\n",
    "############################################\n",
    "### use the code below to test your filter!\n",
    "############################################\n",
    "\n",
    "measurements = [1, 2, 3]\n",
    "\n",
    "x = matrix([[0.], [0.]]) # initial state (location and velocity)\n",
    "P = matrix([[1000., 0.], [0., 1000.]]) # initial uncertainty\n",
    "u = matrix([[0.], [0.]]) # external motion\n",
    "F = matrix([[1., 1.], [0, 1.]]) # next state function\n",
    "H = matrix([[1., 0.]]) # measurement function\n",
    "R = matrix([[1.]]) # measurement uncertainty\n",
    "I = matrix([[1., 0.], [0., 1.]]) # identity matrix\n",
    "\n",
    "print (kalman_filter(x, P))\n",
    "# output should be:\n",
    "# x: [[3.9996664447958645], [0.9999998335552873]]\n",
    "# P: [[2.3318904241194827, 0.9991676099921091], [0.9991676099921067, 0.49950058263974184]]\n"
   ]
  },
  {
   "cell_type": "code",
   "execution_count": null,
   "metadata": {
    "collapsed": true
   },
   "outputs": [],
   "source": []
  },
  {
   "cell_type": "code",
   "execution_count": null,
   "metadata": {
    "collapsed": true
   },
   "outputs": [],
   "source": []
  }
 ],
 "metadata": {
  "kernelspec": {
   "display_name": "Python 3",
   "language": "python",
   "name": "python3"
  },
  "language_info": {
   "codemirror_mode": {
    "name": "ipython",
    "version": 3
   },
   "file_extension": ".py",
   "mimetype": "text/x-python",
   "name": "python",
   "nbconvert_exporter": "python",
   "pygments_lexer": "ipython3",
   "version": "3.6.2"
  }
 },
 "nbformat": 4,
 "nbformat_minor": 2
}
