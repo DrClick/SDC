{
 "cells": [
  {
   "cell_type": "code",
   "execution_count": 281,
   "metadata": {
    "collapsed": false
   },
   "outputs": [],
   "source": [
    "colors = [['R','G','G','R','R'],\n",
    "          ['R','R','G','R','R'],\n",
    "          ['R','R','G','G','R'],\n",
    "          ['R','R','R','R','R']]\n",
    "measurements = ['G','G','G','G','G']\n",
    "motions = [[0,0],[0,1],[1,0],[1,0],[0,1]]\n"
   ]
  },
  {
   "cell_type": "code",
   "execution_count": 45,
   "metadata": {
    "collapsed": true
   },
   "outputs": [],
   "source": [
    "def show(p):\n",
    "    rows = ['[' + ','.join(map(lambda x: '{0:.5f}'.format(x),r)) + ']' for r in p]\n",
    "    print '[' + ',\\n '.join(rows) + ']'"
   ]
  },
  {
   "cell_type": "code",
   "execution_count": 276,
   "metadata": {
    "collapsed": false
   },
   "outputs": [],
   "source": [
    "def move(P, motion, p_move):\n",
    "    #get dimensions of p\n",
    "    height_p = len(P)\n",
    "    columns_p = len(P[0])\n",
    "    \n",
    "    p_dont_move = 1.0 - p_move\n",
    "    \n",
    "    \n",
    "    #init new result based on the probability that the robot doesnt move and the prior probability\n",
    "    q = [[P[row][col] * p_dont_move for col in range(columns_p)] for row in range(height_p)]\n",
    "\n",
    "    total_prob = 0\n",
    "    \n",
    "    #loop through each row and column and find the appropriate value in the original matrix\n",
    "    for i in range(height_p):\n",
    "        for ii in range(columns_p):\n",
    "            #shift the index to the left for forward motion and do the right for \n",
    "            #backwards motion. Truncate index at len and and wrap\n",
    "            #similarly shift it down and up for vertical motion\n",
    "            p_index_y = (i - motion[0]) % height_p\n",
    "            p_index_x = (ii - motion[1]) % columns_p\n",
    "            \n",
    "            #the original prior probability\n",
    "            p_value = P[p_index_y][p_index_x]\n",
    "            \n",
    "            q[i][ii] += p_value * p_move\n",
    "            total_prob += q[i][ii]\n",
    "    \n",
    "    #normalize\n",
    "    q = [[q[row][col]/total_prob for col in range(columns_p)] for row in range(height_p)]\n",
    "    \n",
    "    return q"
   ]
  },
  {
   "cell_type": "code",
   "execution_count": 272,
   "metadata": {
    "collapsed": false
   },
   "outputs": [],
   "source": [
    "def sense(P, sensor_value, p_sensor_right, world):\n",
    "     #get dimensions of p\n",
    "    height_p = len(P)\n",
    "    columns_p = len(P[0])\n",
    "    \n",
    "    #init new result\n",
    "    p_sensor_wrong = 1.0 - p_sensor_right\n",
    "    q = [[0 for col in range(columns_p)] for row in range(height_p)]\n",
    "    \n",
    "    #loop over each column and add the probability based on a correct sensor setting\n",
    "    total_prob = 0\n",
    "    for i in range(height_p):\n",
    "        for j in range(columns_p):\n",
    "            \n",
    "            if world[i][j] == sensor_value: # call this a hit\n",
    "                q[i][j] += P[i][j] * p_sensor_right\n",
    "            else:\n",
    "                q[i][j] += P[i][j] * p_sensor_wrong\n",
    "            total_prob += q[i][j]\n",
    "            \n",
    "    #normalize\n",
    "    q = [[q[row][col]/total_prob for col in range(columns_p)] for row in range(height_p)] \n",
    "\n",
    "    return q"
   ]
  },
  {
   "cell_type": "code",
   "execution_count": 279,
   "metadata": {
    "collapsed": false
   },
   "outputs": [],
   "source": [
    "def localize(colors,measurements,motions,sensor_right,p_move):\n",
    "    # initializes p to a uniform distribution over a grid of the same dimensions as colors\n",
    "    pinit = 1.0 / float(len(colors)) / float(len(colors[0]))\n",
    "    P = [[pinit for row in range(len(colors[0]))] for col in range(len(colors))]\n",
    "    \n",
    "    for m, s in zip(motions, measurements): \n",
    "        P = move(P, m, p_move)\n",
    "        P = sense(P, s, sensor_right, colors)\n",
    "    return P"
   ]
  },
  {
   "cell_type": "code",
   "execution_count": 280,
   "metadata": {
    "collapsed": false
   },
   "outputs": [
    {
     "name": "stdout",
     "output_type": "stream",
     "text": [
      "[[0.03333,0.03333,0.03333],\n",
      " [0.13333,0.13333,0.53333],\n",
      " [0.03333,0.03333,0.03333]]\n"
     ]
    }
   ],
   "source": [
    "p = localize(colors,measurements,motions,sensor_right = .8, p_move = 1)\n",
    "show(p) # displays your answer"
   ]
  },
  {
   "cell_type": "code",
   "execution_count": 282,
   "metadata": {
    "collapsed": false,
    "scrolled": true
   },
   "outputs": [
    {
     "name": "stdout",
     "output_type": "stream",
     "text": [
      "[[0.01106,0.02464,0.06800,0.04472,0.02465],\n",
      " [0.00715,0.01017,0.08697,0.07988,0.00935],\n",
      " [0.00740,0.00894,0.11273,0.35351,0.04066],\n",
      " [0.00911,0.00715,0.01435,0.04313,0.03643]]\n"
     ]
    }
   ],
   "source": [
    "p = localize(colors,measurements,motions,sensor_right = 0.7, p_move = 0.8)\n",
    "show(p) # displays your answer"
   ]
  },
  {
   "cell_type": "code",
   "execution_count": null,
   "metadata": {
    "collapsed": true
   },
   "outputs": [],
   "source": [
    "# [[0.01105, 0.02464, 0.06799, 0.04472, 0.02465],\n",
    "#  [0.00715, 0.01017, 0.08696, 0.07988, 0.00935],\n",
    "#  [0.00739, 0.00894, 0.11272, 0.35350, 0.04065],\n",
    "#  [0.00910, 0.00715, 0.01434, 0.04313, 0.03642]]"
   ]
  }
 ],
 "metadata": {
  "kernelspec": {
   "display_name": "Python 2",
   "language": "python",
   "name": "python2"
  },
  "language_info": {
   "codemirror_mode": {
    "name": "ipython",
    "version": 2
   },
   "file_extension": ".py",
   "mimetype": "text/x-python",
   "name": "python",
   "nbconvert_exporter": "python",
   "pygments_lexer": "ipython2",
   "version": "2.7.11"
  }
 },
 "nbformat": 4,
 "nbformat_minor": 0
}
