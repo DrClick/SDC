{
 "cells": [
  {
   "cell_type": "code",
   "execution_count": 2,
   "metadata": {},
   "outputs": [
    {
     "data": {
      "text/plain": []
     },
     "execution_count": 2,
     "metadata": {},
     "output_type": "execute_result"
    }
   ],
   "source": [
    "#include <iostream>\n",
    "using namespace std;"
   ]
  },
  {
   "cell_type": "code",
   "execution_count": 3,
   "metadata": {},
   "outputs": [
    {
     "name": "stdout",
     "output_type": "stream",
     "text": [
      "hello world\n"
     ]
    },
    {
     "data": {
      "text/plain": [
       "(std::__1::basic_ostream &) @0x7fff9a9ad660\n"
      ]
     },
     "execution_count": 3,
     "metadata": {},
     "output_type": "execute_result"
    }
   ],
   "source": [
    "cout << \"hello world\" << endl;"
   ]
  },
  {
   "cell_type": "code",
   "execution_count": 4,
   "metadata": {},
   "outputs": [
    {
     "name": "stdout",
     "output_type": "stream",
     "text": [
      "8"
     ]
    },
    {
     "data": {
      "text/plain": [
       "(std::__1::basic_ostream &) @0x7fff9a9ad660\n"
      ]
     },
     "execution_count": 4,
     "metadata": {},
     "output_type": "execute_result"
    }
   ],
   "source": [
    "cout << sizeof(double);"
   ]
  },
  {
   "cell_type": "code",
   "execution_count": 5,
   "metadata": {},
   "outputs": [
    {
     "data": {
      "text/plain": []
     },
     "execution_count": 5,
     "metadata": {},
     "output_type": "execute_result"
    }
   ],
   "source": [
    "#include <fstream>\n",
    "#include <string>"
   ]
  },
  {
   "cell_type": "code",
   "execution_count": 6,
   "metadata": {},
   "outputs": [
    {
     "data": {
      "text/plain": []
     },
     "execution_count": 6,
     "metadata": {},
     "output_type": "execute_result"
    }
   ],
   "source": [
    "string line;\n",
    "ofstream myfileI (\"input.txt\", ios::app);"
   ]
  },
  {
   "cell_type": "code",
   "execution_count": 10,
   "metadata": {},
   "outputs": [
    {
     "name": "stderr",
     "output_type": "stream",
     "text": [
      "\u001b[1minput_line_16:4:9: \u001b[0m\u001b[0;1;31merror: \u001b[0m\u001b[1mvariable 'loop' cannot be implicitly captured in a lambda with no\n",
      "      capture-default specified\u001b[0m\n",
      "        loop(n -1, acc*n);\n",
      "\u001b[0;1;32m        ^\n",
      "\u001b[0m\u001b[1minput_line_16:2:9: \u001b[0m\u001b[0;1;30mnote: \u001b[0m'loop' declared here\u001b[0m\n",
      "    int loop = [] (int n, int acc) -> int { \n",
      "\u001b[0;1;32m        ^\n",
      "\u001b[0m\u001b[1minput_line_16:2:16: \u001b[0m\u001b[0;1;30mnote: \u001b[0mlambda expression begins here\u001b[0m\n",
      "    int loop = [] (int n, int acc) -> int { \n",
      "\u001b[0;1;32m               ^\n",
      "\u001b[0m\u001b[1minput_line_16:4:13: \u001b[0m\u001b[0;1;31merror: \u001b[0m\u001b[1mcalled object type 'int' is not a function or function pointer\u001b[0m\n",
      "        loop(n -1, acc*n);\n",
      "\u001b[0;1;32m        ~~~~^\n",
      "\u001b[0m\u001b[1minput_line_16:2:9: \u001b[0m\u001b[0;1;31merror: \u001b[0m\u001b[1mno viable conversion from '(lambda at input_line_16:2:16)' to 'int'\u001b[0m\n",
      "    int loop = [] (int n, int acc) -> int { \n",
      "\u001b[0;1;32m        ^      ~~~~~~~~~~~~~~~~~~~~~~~~~~~~\n",
      "\u001b[0m\u001b[1minput_line_16:2:16: \u001b[0m\u001b[0;1;30mnote: \u001b[0mcandidate function\u001b[0m\n",
      "    int loop = [] (int n, int acc) -> int { \n",
      "\u001b[0;1;32m               ^\n",
      "\u001b[0m"
     ]
    },
    {
     "ename": "ename",
     "evalue": "evalue",
     "output_type": "error",
     "traceback": []
    }
   ],
   "source": [
    "int Factorial(int n){\n",
    "    int loop = [] (int n, int acc) -> int { \n",
    "        if (n == 0) return acc;\n",
    "        loop(n -1, acc*n);\n",
    "    };\n",
    "    return loop(n,1);\n",
    "}"
   ]
  },
  {
   "cell_type": "code",
   "execution_count": null,
   "metadata": {
    "collapsed": true
   },
   "outputs": [],
   "source": []
  }
 ],
 "metadata": {
  "kernelspec": {
   "display_name": "C++14",
   "language": "",
   "name": "cling-cpp14"
  },
  "language_info": {
   "codemirror_mode": "c++",
   "file_extension": ".c++",
   "mimetype": "text/x-c++src",
   "name": "c++"
  }
 },
 "nbformat": 4,
 "nbformat_minor": 2
}
